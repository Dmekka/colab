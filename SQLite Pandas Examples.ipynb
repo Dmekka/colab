{
  "nbformat": 4,
  "nbformat_minor": 0,
  "metadata": {
    "colab": {
      "name": "Untitled0.ipynb",
      "provenance": [],
      "authorship_tag": "ABX9TyMhCabavRf5setbr86oaNdv",
      "include_colab_link": true
    },
    "kernelspec": {
      "name": "python3",
      "display_name": "Python 3"
    }
  },
  "cells": [
    {
      "cell_type": "markdown",
      "metadata": {
        "id": "view-in-github",
        "colab_type": "text"
      },
      "source": [
        "<a href=\"https://colab.research.google.com/github/Dmekka/colab/blob/master/SQLite%20Pandas%20Examples.ipynb\" target=\"_parent\"><img src=\"https://colab.research.google.com/assets/colab-badge.svg\" alt=\"Open In Colab\"/></a>"
      ]
    },
    {
      "cell_type": "markdown",
      "metadata": {
        "id": "XMkNEiVdlviE",
        "colab_type": "text"
      },
      "source": [
        "https://towardsdatascience.com/do-you-know-python-has-a-built-in-database-d553989c87bd"
      ]
    },
    {
      "cell_type": "code",
      "metadata": {
        "id": "1q-Yfr_dgvB2",
        "colab_type": "code",
        "colab": {}
      },
      "source": [
        "import sqlite3 as sl"
      ],
      "execution_count": 1,
      "outputs": []
    },
    {
      "cell_type": "code",
      "metadata": {
        "id": "2yNH-_VnhkB4",
        "colab_type": "code",
        "colab": {}
      },
      "source": [
        "con = sl.connect('my-test.db')"
      ],
      "execution_count": 3,
      "outputs": []
    },
    {
      "cell_type": "code",
      "metadata": {
        "id": "jGBia_VDhl2X",
        "colab_type": "code",
        "colab": {}
      },
      "source": [
        "sql = \"\"\"\n",
        "        CREATE TABLE USER (\n",
        "            id INTEGER NOT NULL PRIMARY KEY AUTOINCREMENT,\n",
        "            name TEXT,\n",
        "            age INTEGER\n",
        "        );\n",
        "\"\"\"\n",
        "with con:\n",
        "    con.execute(sql)"
      ],
      "execution_count": 4,
      "outputs": []
    },
    {
      "cell_type": "code",
      "metadata": {
        "id": "M8rC0vSzhotA",
        "colab_type": "code",
        "colab": {}
      },
      "source": [
        "sql = 'INSERT INTO USER (id, name, age) values(?, ?, ?)'\n",
        "data = [\n",
        "    (1, 'Alice', 21),\n",
        "    (2, 'Bob', 22),\n",
        "    (3, 'Chris', 23)\n",
        "]\n",
        "with con:\n",
        "    con.executemany(sql, data)"
      ],
      "execution_count": 5,
      "outputs": []
    },
    {
      "cell_type": "code",
      "metadata": {
        "id": "CHr410_uhqda",
        "colab_type": "code",
        "colab": {
          "base_uri": "https://localhost:8080/",
          "height": 51
        },
        "outputId": "3845052b-441f-4f80-ef8f-05ab46ba23a0"
      },
      "source": [
        "with con:\n",
        "    data = con.execute(\"SELECT * FROM USER WHERE age <= 22\")\n",
        "    for row in data:\n",
        "        print(row)"
      ],
      "execution_count": 6,
      "outputs": [
        {
          "output_type": "stream",
          "text": [
            "(1, 'Alice', 21)\n",
            "(2, 'Bob', 22)\n"
          ],
          "name": "stdout"
        }
      ]
    },
    {
      "cell_type": "markdown",
      "metadata": {
        "id": "AqNRLISLiveH",
        "colab_type": "text"
      },
      "source": [
        "# **Integrate with Pandas**"
      ]
    },
    {
      "cell_type": "code",
      "metadata": {
        "id": "grLIDEJei5sJ",
        "colab_type": "code",
        "colab": {}
      },
      "source": [
        "import pandas as pd"
      ],
      "execution_count": 7,
      "outputs": []
    },
    {
      "cell_type": "code",
      "metadata": {
        "id": "z0syyvA9i7p6",
        "colab_type": "code",
        "colab": {
          "base_uri": "https://localhost:8080/",
          "height": 266
        },
        "outputId": "d0197abe-7fd7-4314-b074-f377b98abac2"
      },
      "source": [
        "df_skill = pd.DataFrame({\n",
        "    'user_id': [1,1,2,2,3,3,3],\n",
        "    'skill': ['Network Security', 'Algorithm Development', 'Network Security', 'Java', 'Python', 'Data Science', 'Machine Learning']\n",
        "})\n",
        "df_skill"
      ],
      "execution_count": 8,
      "outputs": [
        {
          "output_type": "execute_result",
          "data": {
            "text/html": [
              "<div>\n",
              "<style scoped>\n",
              "    .dataframe tbody tr th:only-of-type {\n",
              "        vertical-align: middle;\n",
              "    }\n",
              "\n",
              "    .dataframe tbody tr th {\n",
              "        vertical-align: top;\n",
              "    }\n",
              "\n",
              "    .dataframe thead th {\n",
              "        text-align: right;\n",
              "    }\n",
              "</style>\n",
              "<table border=\"1\" class=\"dataframe\">\n",
              "  <thead>\n",
              "    <tr style=\"text-align: right;\">\n",
              "      <th></th>\n",
              "      <th>user_id</th>\n",
              "      <th>skill</th>\n",
              "    </tr>\n",
              "  </thead>\n",
              "  <tbody>\n",
              "    <tr>\n",
              "      <th>0</th>\n",
              "      <td>1</td>\n",
              "      <td>Network Security</td>\n",
              "    </tr>\n",
              "    <tr>\n",
              "      <th>1</th>\n",
              "      <td>1</td>\n",
              "      <td>Algorithm Development</td>\n",
              "    </tr>\n",
              "    <tr>\n",
              "      <th>2</th>\n",
              "      <td>2</td>\n",
              "      <td>Network Security</td>\n",
              "    </tr>\n",
              "    <tr>\n",
              "      <th>3</th>\n",
              "      <td>2</td>\n",
              "      <td>Java</td>\n",
              "    </tr>\n",
              "    <tr>\n",
              "      <th>4</th>\n",
              "      <td>3</td>\n",
              "      <td>Python</td>\n",
              "    </tr>\n",
              "    <tr>\n",
              "      <th>5</th>\n",
              "      <td>3</td>\n",
              "      <td>Data Science</td>\n",
              "    </tr>\n",
              "    <tr>\n",
              "      <th>6</th>\n",
              "      <td>3</td>\n",
              "      <td>Machine Learning</td>\n",
              "    </tr>\n",
              "  </tbody>\n",
              "</table>\n",
              "</div>"
            ],
            "text/plain": [
              "   user_id                  skill\n",
              "0        1       Network Security\n",
              "1        1  Algorithm Development\n",
              "2        2       Network Security\n",
              "3        2                   Java\n",
              "4        3                 Python\n",
              "5        3           Data Science\n",
              "6        3       Machine Learning"
            ]
          },
          "metadata": {
            "tags": []
          },
          "execution_count": 8
        }
      ]
    },
    {
      "cell_type": "code",
      "metadata": {
        "id": "z8tsLLDCjCip",
        "colab_type": "code",
        "colab": {}
      },
      "source": [
        "df_skill.to_sql('SKILL', con)"
      ],
      "execution_count": 9,
      "outputs": []
    },
    {
      "cell_type": "code",
      "metadata": {
        "id": "GeH_B21pjFuv",
        "colab_type": "code",
        "colab": {
          "base_uri": "https://localhost:8080/",
          "height": 266
        },
        "outputId": "3f3df241-4154-4a69-8564-030a40a840a3"
      },
      "source": [
        "df = pd.read_sql('''\n",
        "    SELECT s.user_id, u.name, u.age, s.skill \n",
        "    FROM USER u LEFT JOIN SKILL s ON u.id = s.user_id\n",
        "''', con)\n",
        "\n",
        "df"
      ],
      "execution_count": 10,
      "outputs": [
        {
          "output_type": "execute_result",
          "data": {
            "text/html": [
              "<div>\n",
              "<style scoped>\n",
              "    .dataframe tbody tr th:only-of-type {\n",
              "        vertical-align: middle;\n",
              "    }\n",
              "\n",
              "    .dataframe tbody tr th {\n",
              "        vertical-align: top;\n",
              "    }\n",
              "\n",
              "    .dataframe thead th {\n",
              "        text-align: right;\n",
              "    }\n",
              "</style>\n",
              "<table border=\"1\" class=\"dataframe\">\n",
              "  <thead>\n",
              "    <tr style=\"text-align: right;\">\n",
              "      <th></th>\n",
              "      <th>user_id</th>\n",
              "      <th>name</th>\n",
              "      <th>age</th>\n",
              "      <th>skill</th>\n",
              "    </tr>\n",
              "  </thead>\n",
              "  <tbody>\n",
              "    <tr>\n",
              "      <th>0</th>\n",
              "      <td>1</td>\n",
              "      <td>Alice</td>\n",
              "      <td>21</td>\n",
              "      <td>Algorithm Development</td>\n",
              "    </tr>\n",
              "    <tr>\n",
              "      <th>1</th>\n",
              "      <td>1</td>\n",
              "      <td>Alice</td>\n",
              "      <td>21</td>\n",
              "      <td>Network Security</td>\n",
              "    </tr>\n",
              "    <tr>\n",
              "      <th>2</th>\n",
              "      <td>2</td>\n",
              "      <td>Bob</td>\n",
              "      <td>22</td>\n",
              "      <td>Java</td>\n",
              "    </tr>\n",
              "    <tr>\n",
              "      <th>3</th>\n",
              "      <td>2</td>\n",
              "      <td>Bob</td>\n",
              "      <td>22</td>\n",
              "      <td>Network Security</td>\n",
              "    </tr>\n",
              "    <tr>\n",
              "      <th>4</th>\n",
              "      <td>3</td>\n",
              "      <td>Chris</td>\n",
              "      <td>23</td>\n",
              "      <td>Data Science</td>\n",
              "    </tr>\n",
              "    <tr>\n",
              "      <th>5</th>\n",
              "      <td>3</td>\n",
              "      <td>Chris</td>\n",
              "      <td>23</td>\n",
              "      <td>Machine Learning</td>\n",
              "    </tr>\n",
              "    <tr>\n",
              "      <th>6</th>\n",
              "      <td>3</td>\n",
              "      <td>Chris</td>\n",
              "      <td>23</td>\n",
              "      <td>Python</td>\n",
              "    </tr>\n",
              "  </tbody>\n",
              "</table>\n",
              "</div>"
            ],
            "text/plain": [
              "   user_id   name  age                  skill\n",
              "0        1  Alice   21  Algorithm Development\n",
              "1        1  Alice   21       Network Security\n",
              "2        2    Bob   22                   Java\n",
              "3        2    Bob   22       Network Security\n",
              "4        3  Chris   23           Data Science\n",
              "5        3  Chris   23       Machine Learning\n",
              "6        3  Chris   23                 Python"
            ]
          },
          "metadata": {
            "tags": []
          },
          "execution_count": 10
        }
      ]
    },
    {
      "cell_type": "code",
      "metadata": {
        "id": "0zTNUi1PjJ9A",
        "colab_type": "code",
        "colab": {}
      },
      "source": [
        "df.to_sql('USER_SKILL', con)"
      ],
      "execution_count": 11,
      "outputs": []
    },
    {
      "cell_type": "code",
      "metadata": {
        "id": "rciYpvxBjVPy",
        "colab_type": "code",
        "colab": {}
      },
      "source": [
        ""
      ],
      "execution_count": null,
      "outputs": []
    }
  ]
}